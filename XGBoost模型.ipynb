{
 "cells": [
  {
   "cell_type": "markdown",
   "metadata": {},
   "source": [
    "# 1.导入所需要的包"
   ]
  },
  {
   "cell_type": "code",
   "execution_count": 2,
   "metadata": {},
   "outputs": [],
   "source": [
    "import pandas as pd\n",
    "import numpy as np\n",
    "import os\n",
    "import pickle\n",
    "import gc\n",
    "import xgboost as xgb\n",
    "import numpy as np\n",
    "import re\n",
    "import pandas as pd\n",
    "from sklearn.model_selection import train_test_split #用来划分训练集与测试集"
   ]
  },
  {
   "cell_type": "code",
   "execution_count": 3,
   "metadata": {},
   "outputs": [
    {
     "data": {
      "text/plain": [
       "(9918441, 5)"
      ]
     },
     "execution_count": 3,
     "metadata": {},
     "output_type": "execute_result"
    }
   ],
   "source": [
    "train = pd.read_csv(r'C:/Users/CHICHI/Desktop/文本正则化/input/en_train.csv')\n",
    "train.shape"
   ]
  },
  {
   "cell_type": "code",
   "execution_count": 2,
   "metadata": {},
   "outputs": [],
   "source": [
    "max_num_features = 10 \n",
    "pad_size = 1\n",
    "boundary_letter = -1\n",
    "space_letter = 0\n",
    "max_data_size = 9918441 #训练数据大小"
   ]
  },
  {
   "cell_type": "code",
   "execution_count": 3,
   "metadata": {},
   "outputs": [],
   "source": [
    "out_path = r'C:/Users/CHICHI/Desktop/output'\n",
    "df = pd.read_csv(r'C:/Users/CHICHI/Desktop/input/en_train.csv')"
   ]
  },
  {
   "cell_type": "code",
   "execution_count": 4,
   "metadata": {},
   "outputs": [
    {
     "data": {
      "text/plain": [
       "35"
      ]
     },
     "execution_count": 4,
     "metadata": {},
     "output_type": "execute_result"
    }
   ],
   "source": [
    "x_data = []\n",
    "y_data =  pd.factorize(df['class'])\n",
    "labels = y_data[1]\n",
    "y_data = y_data[0]\n",
    "gc.collect()"
   ]
  },
  {
   "cell_type": "code",
   "execution_count": 5,
   "metadata": {},
   "outputs": [],
   "source": [
    "for x in df['before'].values:\n",
    "    x_row = np.ones(max_num_features, dtype=int) * space_letter\n",
    "    for xi, i in zip(list(str(x)), np.arange(max_num_features)):\n",
    "        x_row[i] = ord(xi)\n",
    "    x_data.append(x_row)"
   ]
  },
  {
   "cell_type": "code",
   "execution_count": 6,
   "metadata": {},
   "outputs": [],
   "source": [
    "def context_window_transform(data, pad_size):\n",
    "    pre = np.zeros(max_num_features)\n",
    "    pre = [pre for x in np.arange(pad_size)]\n",
    "    data = pre + data + pre\n",
    "    neo_data = []\n",
    "    for i in np.arange(len(data) - pad_size * 2):\n",
    "        row = []\n",
    "        for x in data[i : i + pad_size * 2 + 1]:\n",
    "            row.append([boundary_letter])\n",
    "            row.append(x)\n",
    "        row.append([boundary_letter])\n",
    "        neo_data.append([int(x) for y in row for x in y])\n",
    "    return neo_data"
   ]
  },
  {
   "cell_type": "code",
   "execution_count": 7,
   "metadata": {},
   "outputs": [],
   "source": [
    "x_data = x_data[:max_data_size]\n",
    "y_data = y_data[:max_data_size]\n",
    "x_data = np.array(context_window_transform(x_data, pad_size))\n",
    "gc.collect()\n",
    "x_data = np.array(x_data)\n",
    "y_data = np.array(y_data)"
   ]
  },
  {
   "cell_type": "code",
   "execution_count": 8,
   "metadata": {},
   "outputs": [
    {
     "name": "stdout",
     "output_type": "stream",
     "text": [
      "Total number of samples: 9918441\n",
      "Use:  9918441\n",
      "x_data sample:\n",
      "[ -1   0   0   0   0   0   0   0   0   0   0  -1  66 114 105 108 108  97\n",
      " 110 116  97 105  -1 105 115   0   0   0   0   0   0   0   0  -1]\n",
      "y_data sample:\n",
      "0\n",
      "labels:\n",
      "Index(['PLAIN', 'PUNCT', 'DATE', 'LETTERS', 'CARDINAL', 'VERBATIM', 'DECIMAL',\n",
      "       'MEASURE', 'MONEY', 'ORDINAL', 'TIME', 'ELECTRONIC', 'DIGIT',\n",
      "       'FRACTION', 'TELEPHONE', 'ADDRESS'],\n",
      "      dtype='object')\n"
     ]
    }
   ],
   "source": [
    "print('Total number of samples:', len(x_data))\n",
    "print('Use: ', max_data_size)\n",
    "#x_data = np.array(x_data)\n",
    "#y_data = np.array(y_data)\n",
    "\n",
    "print('x_data sample:')\n",
    "print(x_data[0])\n",
    "print('y_data sample:')\n",
    "print(y_data[0])\n",
    "print('labels:')\n",
    "print(labels)"
   ]
  },
  {
   "cell_type": "code",
   "execution_count": 9,
   "metadata": {},
   "outputs": [
    {
     "data": {
      "text/plain": [
       "40"
      ]
     },
     "execution_count": 9,
     "metadata": {},
     "output_type": "execute_result"
    }
   ],
   "source": [
    "x_train = x_data\n",
    "y_train = y_data\n",
    "gc.collect()"
   ]
  },
  {
   "cell_type": "code",
   "execution_count": 10,
   "metadata": {},
   "outputs": [],
   "source": [
    "x_train, x_valid, y_train, y_valid= train_test_split(x_train, y_train,\n",
    "                                                      test_size=0.1, random_state=20817)\n",
    "\"\"\"\n",
    "#划分测试集与验证集\n",
    "test_size：测试数据占样品数据的比例\n",
    "random_state：设置随机数种子，保证每次都是同一个随机数，若为0或者不填，则每次得到的数据都不一样\n",
    "\"\"\"\n",
    "\n",
    "gc.collect()\n",
    "num_class = len(labels)\n",
    "dtrain = xgb.DMatrix(x_train, label=y_train)\n",
    "dvalid = xgb.DMatrix(x_valid, label=y_valid)\n",
    "watchlist = [(dvalid, 'valid'), (dtrain, 'train')]"
   ]
  },
  {
   "cell_type": "markdown",
   "metadata": {},
   "source": [
    "XGBoost算法参数设置"
   ]
  },
  {
   "cell_type": "code",
   "execution_count": null,
   "metadata": {},
   "outputs": [],
   "source": [
    "param = {'objective':'multi:softmax',\n",
    "         'eta':'0.3', 'max_depth':10,\n",
    "         'silent':1, \n",
    "         'num_class':num_class,\n",
    "         'eval_metric':'merror'}\n",
    "\"\"\"\n",
    "##常规参数\n",
    "silent：静默模式，为1时模型运行不输出\n",
    "nthread [default to maximum number of threads available if not set]：线程数，可以不用设置，原始代码值为-1\n",
    "，导致cpu未能跑满\n",
    "\n",
    "##模型参数\n",
    "eta（学习率）:shrinkage参数，用于更新叶子节点权重，乘以该系数，以防止步长过大。但是参数值若过大，越可能无法收敛，把\n",
    "eta设置小一点可以使得后面的学习更加仔细\n",
    "max_depth:给定树的最大深度，默认为3。树越深，越容易过拟合\n",
    "\n",
    "##学习任务参数\n",
    "objective（最小化损失函数类型）:给定损失函数，默认为“binary:logistic”，若设置XGBoost使用softmax\n",
    "函数做多分类任务，需要设置参数num_class（类别个数）\n",
    "eval_metric（学习目标参数）:可以设置为merror，其为多分类错误率，计算公式为(wrong cases)/(all cases)\n",
    "\"\"\""
   ]
  },
  {
   "cell_type": "code",
   "execution_count": 11,
   "metadata": {},
   "outputs": [
    {
     "name": "stdout",
     "output_type": "stream",
     "text": [
      "[18:54:15] WARNING: C:\\Users\\Administrator\\workspace\\xgboost-win64_release_1.2.0\\src\\learner.cc:516: \n",
      "Parameters: { silent } might not be used.\n",
      "\n",
      "  This may not be accurate due to some parameters are only used in language bindings but\n",
      "  passed down to XGBoost core.  Or some parameters are not used but slip through this\n",
      "  verification. Please open an issue if you find above cases.\n",
      "\n",
      "\n",
      "[18:54:17] WARNING: C:\\Users\\Administrator\\workspace\\xgboost-win64_release_1.2.0\\src\\gbm\\gbtree.cc:139: Tree method is automatically selected to be 'approx' for faster speed. To use old behavior (exact greedy algorithm on single machine), set tree_method to 'exact'.\n",
      "[0]\tvalid-merror:0.00902\ttrain-merror:0.00898\n",
      "Multiple eval metrics have been passed: 'train-merror' will be used for early stopping.\n",
      "\n",
      "Will train until train-merror hasn't improved in 20 rounds.\n",
      "[10]\tvalid-merror:0.00435\ttrain-merror:0.00426\n",
      "[20]\tvalid-merror:0.00343\ttrain-merror:0.00315\n",
      "[30]\tvalid-merror:0.00298\ttrain-merror:0.00257\n",
      "[40]\tvalid-merror:0.00266\ttrain-merror:0.00207\n",
      "[49]\tvalid-merror:0.00249\ttrain-merror:0.00175\n"
     ]
    }
   ],
   "source": [
    "model = xgb.train(param, dtrain, 50, watchlist, early_stopping_rounds=20,\n",
    "                  verbose_eval=10)\n",
    "gc.collect()\n",
    "\n",
    "pred = model.predict(dvalid)\n",
    "pred = [labels[int(x)] for x in pred]\n",
    "y_valid = [labels[x] for x in y_valid]\n",
    "x_valid = [ [ chr(x) for x in y[2 + max_num_features: 2 + max_num_features * 2]] for y in x_valid]\n",
    "x_valid = [''.join(x) for x in x_valid]\n",
    "x_valid = [re.sub('a+$', '', x) for x in x_valid]\n",
    "\n",
    "gc.collect()\n",
    "\n",
    "df_pred = pd.DataFrame(columns=['data', 'predict', 'target'])\n",
    "df_pred['data'] = x_valid\n",
    "df_pred['predict'] = pred \n",
    "df_pred['target'] = y_valid\n",
    "df_pred.to_csv(os.path.join(out_path, 'pred.csv'))\n",
    "\n",
    "df_erros = df_pred.loc[df_pred['predict'] != df_pred['target']]\n",
    "df_erros.to_csv(os.path.join(out_path, 'errors.csv'), index=False)\n",
    "\n",
    "model.save_model(os.path.join(out_path, 'xgb_model'))"
   ]
  },
  {
   "cell_type": "code",
   "execution_count": null,
   "metadata": {},
   "outputs": [],
   "source": []
  },
  {
   "cell_type": "code",
   "execution_count": null,
   "metadata": {},
   "outputs": [],
   "source": []
  }
 ],
 "metadata": {
  "kernelspec": {
   "display_name": "Python 3",
   "language": "python",
   "name": "python3"
  },
  "language_info": {
   "codemirror_mode": {
    "name": "ipython",
    "version": 3
   },
   "file_extension": ".py",
   "mimetype": "text/x-python",
   "name": "python",
   "nbconvert_exporter": "python",
   "pygments_lexer": "ipython3",
   "version": "3.8.3"
  }
 },
 "nbformat": 4,
 "nbformat_minor": 4
}
